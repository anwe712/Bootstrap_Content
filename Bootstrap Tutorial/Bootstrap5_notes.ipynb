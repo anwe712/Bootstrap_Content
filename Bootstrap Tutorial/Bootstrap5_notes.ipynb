{
 "cells": [
  {
   "cell_type": "markdown",
   "id": "fbd5f73f-a209-49c9-97f1-00c1a0da183a",
   "metadata": {},
   "source": [
    "#How to use Bootstrap 5 "
   ]
  },
  {
   "cell_type": "markdown",
   "id": "0b0584de-5510-4f26-9f8d-fd66f674d896",
   "metadata": {},
   "source": [
    "Bootstrap is a free front-end framework for faster and easier web development\n",
    "\n",
    "Bootstrap 5 (released 2021) is the newest version of Bootstrap (released 2013); with new components, faster stylesheet and more responsiveness."
   ]
  },
  {
   "cell_type": "markdown",
   "id": "c32f20a0-7fcc-4ef1-adc7-31532214600c",
   "metadata": {},
   "source": [
    "#Where to get bootstrap 5?"
   ]
  },
  {
   "cell_type": "raw",
   "id": "36914300-88ee-4254-b73d-4d386b276c8e",
   "metadata": {},
   "source": [
    "<!-- Latest compiled and minified CSS -->\n",
    "<link href=\"https://cdn.jsdelivr.net/npm/bootstrap@5.3.1/dist/css/bootstrap.min.css\" rel=\"stylesheet\">\n",
    "\n",
    "<!-- Latest compiled JavaScript -->\n",
    "<script src=\"https://cdn.jsdelivr.net/npm/bootstrap@5.3.1/dist/js/bootstrap.bundle.min.js\"></script>"
   ]
  },
  {
   "cell_type": "markdown",
   "id": "5e2d8308-b0b1-432e-ad49-f346b268a895",
   "metadata": {},
   "source": [
    "#Container"
   ]
  },
  {
   "cell_type": "markdown",
   "id": "7b5d5b8f-46ae-4177-8fa6-02442866a4ea",
   "metadata": {},
   "source": [
    "The .container class provides a responsive fixed width container\n",
    "The .container-fluid class provides a full width container, spanning the entire width of the viewport"
   ]
  },
  {
   "cell_type": "markdown",
   "id": "28553838-7e65-4984-b811-b813f7f3b500",
   "metadata": {},
   "source": [
    "#Container example"
   ]
  },
  {
   "cell_type": "markdown",
   "id": "081dd5b1-b562-47e6-9114-e073f67e73d4",
   "metadata": {},
   "source": [
    "<!DOCTYPE html>\n",
    "<html lang=\"en\">\n",
    "<head>\n",
    "  <title>Bootstrap Example</title>\n",
    "  <meta charset=\"utf-8\">\n",
    "  <meta name=\"viewport\" content=\"width=device-width, initial-scale=1\">\n",
    "  <link href=\"https://cdn.jsdelivr.net/npm/bootstrap@5.3.1/dist/css/bootstrap.min.css\" rel=\"stylesheet\">\n",
    "  <script src=\"https://cdn.jsdelivr.net/npm/bootstrap@5.3.1/dist/js/bootstrap.bundle.min.js\"></script>\n",
    "</head>\n",
    "<body>\n",
    "\n",
    "<div class=\"container\">\n",
    "  <h1>My First Bootstrap Page</h1>\n",
    "  <p>This part is inside a .container class.</p>\n",
    "  <p>The .container class provides a responsive fixed width container.</p>\n",
    "</div>\n",
    "\n",
    "</body>\n",
    "</html>"
   ]
  },
  {
   "cell_type": "markdown",
   "id": "ab70d1d0-724b-413e-a5bc-d199b4b6b64b",
   "metadata": {},
   "source": [
    "#container-fluid"
   ]
  },
  {
   "cell_type": "raw",
   "id": "56ae98b0-eec7-4e0d-9363-72b3d4703ced",
   "metadata": {},
   "source": [
    "The following example shows the code for a basic Bootstrap 5 page (with a full width container):\n",
    "\n",
    "Container Fluid Example\n",
    "<!DOCTYPE html>\n",
    "<html lang=\"en\">\n",
    "<head>\n",
    "  <title>Bootstrap Example</title>\n",
    "  <meta charset=\"utf-8\">\n",
    "  <meta name=\"viewport\" content=\"width=device-width, initial-scale=1\">\n",
    "  <link href=\"https://cdn.jsdelivr.net/npm/bootstrap@5.3.1/dist/css/bootstrap.min.css\" rel=\"stylesheet\">\n",
    "  <script src=\"https://cdn.jsdelivr.net/npm/bootstrap@5.3.1/dist/js/bootstrap.bundle.min.js\"></script>\n",
    "</head>\n",
    "<body>\n",
    "\n",
    "<div class=\"container-fluid\">\n",
    "  <h1>My First Bootstrap Page</h1>\n",
    "  <p>This part is inside a .container-fluid class.</p>\n",
    "  <p>The .container-fluid class provides a full width container, spanning the entire width of the viewport.</p>\n",
    "</div>\n",
    "\n",
    "</body>\n",
    "</html>"
   ]
  },
  {
   "cell_type": "markdown",
   "id": "a522ee52-f595-4f48-8693-e37c5fc62552",
   "metadata": {},
   "source": [
    "#Grid Classes"
   ]
  },
  {
   "cell_type": "markdown",
   "id": "2de50932-b587-4c4a-963c-3fd4fe03833b",
   "metadata": {},
   "source": [
    "The Bootstrap 5 grid system has six classes:\n",
    "\n",
    ".col- (extra small devices - screen width less than 576px)\n",
    ".col-sm- (small devices - screen width equal to or greater than 576px)\n",
    ".col-md- (medium devices - screen width equal to or greater than 768px)\n",
    ".col-lg- (large devices - screen width equal to or greater than 992px)\n",
    ".col-xl- (xlarge devices - screen width equal to or greater than 1200px)\n",
    ".col-xxl- (xxlarge devices - screen width equal to or greater than 1400px)"
   ]
  },
  {
   "cell_type": "markdown",
   "id": "05f40a8b-3e65-4b17-b262-c262b45286e9",
   "metadata": {},
   "source": [
    "#Typography"
   ]
  },
  {
   "cell_type": "raw",
   "id": "4baf6508-5d1a-4344-88bc-8daa57fb4389",
   "metadata": {},
   "source": [
    "Bootstrap 5 styles HTML headings (<h1> to <h6>)  with a bolder font-weight and a responsive font-size."
   ]
  },
  {
   "cell_type": "markdown",
   "id": "9908d284-e002-494d-846b-9b39811519d2",
   "metadata": {},
   "source": [
    "#Display Headings"
   ]
  },
  {
   "cell_type": "markdown",
   "id": "5e57da1e-bddf-40cd-be20-4348746d71fb",
   "metadata": {},
   "source": [
    "Display headings are used to stand out more than normal headings (larger font-size and lighter font-weight), and there are six classes to choose from: .display-1 to .display-6:\n",
    "\n"
   ]
  },
  {
   "cell_type": "markdown",
   "id": "ca55d936-ce3e-4e51-9184-cfe87e5d526f",
   "metadata": {},
   "source": [
    "<small> , <mark> , <abbr> , <code> , <blockquote> , <dl> , <kbd> , <pre> \n",
    "\n",
    ".lead\tMakes a paragraph stand out\t\n",
    ".text-start\tIndicates left-aligned text\t\n",
    ".text-break\tPrevents long text from breaking layout\t\n",
    ".text-center\tIndicates center-aligned text\t\n",
    ".text-decoration-none\tRemoves the underline from a link\t\n",
    ".text-end\tIndicates right-aligned text\t\n",
    ".text-nowrap\tIndicates no wrap text\t\n",
    ".text-lowercase\tIndicates lowercased text\t\n",
    ".text-uppercase\tIndicates uppercased text\t\n",
    ".text-capitalize\tIndicates capitalized text\t\n",
    ".initialism\tDisplays the text inside an <abbr> element in a slightly smaller font size\t\n",
    ".list-unstyled\tRemoves the default list-style and left margin on list items (works on both <ul> and <ol>). This class only applies to immediate children list items (to remove the default list-style from any nested lists, apply this class to any nested lists as well)\t\n",
    ".list-inline\tPlaces all list items on a single line (used together with .list-inline-item on each <li> elements)"
   ]
  },
  {
   "cell_type": "markdown",
   "id": "12f7a1d5-86c7-4838-8777-631f6dc8d350",
   "metadata": {},
   "source": [
    "#Colours and background Colours"
   ]
  },
  {
   "cell_type": "markdown",
   "id": "217a1af8-0eec-4bff-a576-39481b4d5fb1",
   "metadata": {},
   "source": [
    ".text-muted, .text-primary, .text-success, .text-info, .text-warning, .text-danger, .text-secondary, .text-white, .text-dark, .text-body (default body color/often black) and .text-light"
   ]
  },
  {
   "cell_type": "markdown",
   "id": "d62ff142-6cc5-4265-a989-e5d00c378a9d",
   "metadata": {},
   "source": [
    ".bg-primary, .bg-success, .bg-info, .bg-warning, .bg-danger, .bg-secondary, .bg-dark and .bg-light"
   ]
  },
  {
   "cell_type": "markdown",
   "id": "40a1aad1-6368-4a65-884f-3d3610ac0dc3",
   "metadata": {},
   "source": [
    "#Images"
   ]
  },
  {
   "cell_type": "raw",
   "id": "bb6a9e18-4191-490e-979a-e21b5ab1c79d",
   "metadata": {},
   "source": [
    ".rounded\n",
    ".rounded-circle\n",
    ".img-thumbnail\n",
    "\n",
    "Float an image to the left with the .float-start class or to the right with .float-end\n",
    "\n",
    "To center a image :\n",
    "<img src=\"image path/link\" class=\"mx-auto d-block\">"
   ]
  },
  {
   "cell_type": "markdown",
   "id": "6106c9ed-4ee3-4361-9c34-a0f2cd38e49c",
   "metadata": {},
   "source": [
    "#Alerts"
   ]
  },
  {
   "cell_type": "markdown",
   "id": "475ce307-8759-41fe-ab35-3a6f1fc60744",
   "metadata": {},
   "source": [
    "Alerts are created with the .alert class, followed by one of the contextual classes\n",
    ".alert-success, .alert-info, .alert-warning, .alert-danger, .alert-primary, .alert-secondary, .alert-light or .alert-dark:"
   ]
  },
  {
   "cell_type": "markdown",
   "id": "98a2094f-f356-417a-87e4-d44e2a203abc",
   "metadata": {},
   "source": [
    "<div class=\"alert alert-success\">\n",
    "  <strong>Success!</strong> Indicates a successful or positive action.\n",
    "</div>\n"
   ]
  },
  {
   "cell_type": "markdown",
   "id": "55d81635-8356-434b-b343-61aa1be62c29",
   "metadata": {},
   "source": [
    "#Alert Links"
   ]
  },
  {
   "cell_type": "markdown",
   "id": "66a28392-fee9-4647-9662-6252de148ab6",
   "metadata": {},
   "source": [
    "Add the .alert-link class to any links inside the alert box to create \"matching colored links\":\n",
    "\n",
    "<div class=\"alert alert-success\">\n",
    "  <strong>Success!</strong> You should <a href=\"#\" class=\"alert-link\">read this message</a>.\n",
    "</div>\n",
    "\n",
    "To close the alert message, add a .alert-dismissible class to the alert container.\n",
    "<div class=\"alert alert-success alert-dismissible\">\n",
    "  <button type=\"button\" class=\"btn-close\" data-bs-dismiss=\"alert\"></button>\n",
    "  <strong>Success!</strong> This alert box could indicate a successful or positive action.\n",
    "</div>\n",
    "\n",
    "The .fade and .show classes adds a fading effect when closing the alert message:"
   ]
  },
  {
   "cell_type": "markdown",
   "id": "2d7f7fd9-a7cc-41b2-9a9a-4bd848bfb85b",
   "metadata": {},
   "source": [
    "#Bootstrap 5 Buttons"
   ]
  },
  {
   "cell_type": "markdown",
   "id": "3f7ea6a2-e72a-41c0-9f6a-536b58d997e9",
   "metadata": {},
   "source": [
    "<button type=\"button\" class=\"btn\">Basic</button>\n",
    "<button type=\"button\" class=\"btn btn-primary\">Primary</button>\n",
    "<button type=\"button\" class=\"btn btn-secondary\">Secondary</button>\n",
    "<button type=\"button\" class=\"btn btn-success\">Success</button>\n",
    "<button type=\"button\" class=\"btn btn-info\">Info</button>\n",
    "<button type=\"button\" class=\"btn btn-warning\">Warning</button>\n",
    "<button type=\"button\" class=\"btn btn-danger\">Danger</button>\n",
    "<button type=\"button\" class=\"btn btn-dark\">Dark</button>\n",
    "<button type=\"button\" class=\"btn btn-light\">Light</button>\n",
    "<button type=\"button\" class=\"btn btn-link\">Link</button>\n",
    "\n",
    "For Button outline :\n",
    "<button type=\"button\" class=\"btn btn-outline-primary\">Primary</button>\n",
    "\n",
    "Use the .btn-lg class for large buttons or .btn-sm class for small buttons\n",
    "\n",
    "To create a block level button that spans the entire width of the parent element, use the .d-grid \"helper\" class on the parent element:\n",
    "\n",
    "<div class=\"d-grid\">\n",
    "  <button type=\"button\" class=\"btn btn-primary btn-block\">Full-Width Button</button>\n",
    "</div>\n",
    "\n"
   ]
  },
  {
   "cell_type": "markdown",
   "id": "f7f83b3b-b394-450e-b542-6cf19c41c821",
   "metadata": {},
   "source": [
    "#Button Groups"
   ]
  },
  {
   "cell_type": "markdown",
   "id": "0d0de106-0386-4fa5-83ac-6cdf2227fe98",
   "metadata": {},
   "source": [
    "Bootstrap 5 allows you to group a series of buttons together by using the class btn-group\n",
    "    \n",
    "<div class=\"btn-group\">\n",
    "  <button type=\"button\" class=\"btn btn-primary\">Apple</button>\n",
    "  <button type=\"button\" class=\"btn btn-primary\">Samsung</button>\n",
    "  <button type=\"button\" class=\"btn btn-primary\">Sony</button>\n",
    "</div>\n",
    "\n",
    "Use the class .btn-group-vertical to create a vertical button group\n",
    "<div class=\"btn-group-vertical\">\n",
    "  <button type=\"button\" class=\"btn btn-primary\">Apple</button>\n",
    "  <button type=\"button\" class=\"btn btn-primary\">Samsung</button>\n",
    "  <button type=\"button\" class=\"btn btn-primary\">Sony</button>\n",
    "</div>\n",
    "\n",
    "Button groups are \"inline\" by default, which makes them appear side by side when you have multiple groups"
   ]
  },
  {
   "cell_type": "markdown",
   "id": "89699f1c-cb78-4024-9383-89d3edf6e584",
   "metadata": {},
   "source": [
    "#Badges"
   ]
  },
  {
   "cell_type": "markdown",
   "id": "5452b655-f74a-46c1-8f96-4d8d4452c9d0",
   "metadata": {},
   "source": [
    "\n",
    "<span class=\"badge bg-primary\">Primary</span>\n",
    "<span class=\"badge bg-secondary\">Secondary</span>\n",
    "<span class=\"badge bg-success\">Success</span>\n",
    "<span class=\"badge bg-danger\">Danger</span>\n",
    "<span class=\"badge bg-warning\">Warning</span>\n",
    "<span class=\"badge bg-info\">Info</span>\n",
    "<span class=\"badge bg-light\">Light</span>\n",
    "<span class=\"badge bg-dark\">Dark</span>"
   ]
  },
  {
   "cell_type": "markdown",
   "id": "88bc9cc1-331e-4a1a-9d2e-be73025d8a13",
   "metadata": {},
   "source": [
    "#Bootstrap 5 Dark Mode"
   ]
  },
  {
   "cell_type": "markdown",
   "id": "9bc65d3b-eb89-4c2a-86ab-6d5f4767c3a5",
   "metadata": {},
   "source": [
    "If you want to change the whole page to a darker color, you can add data-bs-theme=\"dark\" to the <html> element\n",
    "\n",
    "If you don't want the whole page to have a darker color, but only specific components, \n",
    "you can add the data-bs-theme=\"dark\" attribute to the specified component.\n",
    "\n",
    "<div class=\"dropdown\" data-bs-theme=\"dark\">"
   ]
  }
 ],
 "metadata": {
  "kernelspec": {
   "display_name": "Python 3 (ipykernel)",
   "language": "python",
   "name": "python3"
  },
  "language_info": {
   "codemirror_mode": {
    "name": "ipython",
    "version": 3
   },
   "file_extension": ".py",
   "mimetype": "text/x-python",
   "name": "python",
   "nbconvert_exporter": "python",
   "pygments_lexer": "ipython3",
   "version": "3.8.10"
  }
 },
 "nbformat": 4,
 "nbformat_minor": 5
}
